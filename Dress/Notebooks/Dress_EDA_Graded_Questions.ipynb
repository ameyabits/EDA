{
 "cells": [
  {
   "cell_type": "code",
   "execution_count": 2,
   "metadata": {},
   "outputs": [],
   "source": [
    "#Import the required Libraries.\n",
    "import numpy as np\n",
    "import pandas as pd\n",
    "import matplotlib.pyplot as plt\n",
    "import seaborn as sns"
   ]
  },
  {
   "cell_type": "markdown",
   "metadata": {},
   "source": [
    "## Data Cleaning "
   ]
  },
  {
   "cell_type": "markdown",
   "metadata": {},
   "source": [
    "### Data Reading & Data Types "
   ]
  },
  {
   "cell_type": "code",
   "execution_count": 3,
   "metadata": {},
   "outputs": [],
   "source": [
    "#Read the data in pandas\n",
    "DressAttribute_df= pd.read_csv(\"C:/Users/002YWG744/Documents/Ameya Docs/POC/Python/UG/src/DataToolKit/EDA/Dress/Resources/Dress_Attribute.csv\")\n",
    "DressSales_df= pd.read_csv(\"C:/Users/002YWG744/Documents/Ameya Docs/POC/Python/UG/src/DataToolKit/EDA/Dress/Resources/Dress_Sales.csv\")"
   ]
  },
  {
   "cell_type": "markdown",
   "metadata": {},
   "source": [
    "You have “Attribute DataSet” which contains a column named “Price”. Choose the correct statement from the following about its data type and variable type.\n",
    "- Integer type and numerical variable\n",
    "- Object type and categorical ordinal variable\n",
    "- Object type and categorical nominal variable\n",
    "- Float type and categorical variable.\n"
   ]
  },
  {
   "cell_type": "markdown",
   "metadata": {},
   "source": [
    "There is another column in “Attribute DataSet” named as “Recommendation”, choose the correct statement about its data type and variable type.\n",
    "- Integer type and categorical\n",
    "- Object type and categorical\n",
    "- Integer type and continuous numerical\n",
    "- Object type only.\n"
   ]
  },
  {
   "cell_type": "markdown",
   "metadata": {},
   "source": [
    "Which of the following column do you think are of no use in “Attribute DataSet”.\n",
    "- Dress_ID\n",
    "- Price\n",
    "- Size and material\n",
    "- NeckLine\n",
    "- None of the above\n"
   ]
  },
  {
   "cell_type": "markdown",
   "metadata": {},
   "source": [
    "#### Details of Dress Attribute"
   ]
  },
  {
   "cell_type": "code",
   "execution_count": 4,
   "metadata": {},
   "outputs": [
    {
     "data": {
      "text/plain": [
       "array([1, 0], dtype=int64)"
      ]
     },
     "execution_count": 4,
     "metadata": {},
     "output_type": "execute_result"
    }
   ],
   "source": [
    "# Print the information about the attributes of inp0 and inp1.\n",
    "DressAttribute_df.Price.unique()\n",
    "\n",
    "DressAttribute_df.Recommendation.unique()"
   ]
  },
  {
   "cell_type": "markdown",
   "metadata": {},
   "source": [
    "### Fixing the Rows and Columns "
   ]
  },
  {
   "cell_type": "markdown",
   "metadata": {},
   "source": [
    "As you can see, there is a column in “Attribute Dataset” named as ‘Size’. This column contains the values in abbreviation format. Write a code in Python to convert the followings:\n",
    "\n",
    "- M into  “Medium”\n",
    "- L into  “Large”\n",
    "- XL into “Extra large”\n",
    "- free into “Free”\n",
    "- S, s & small into “Small”.\n",
    "\n",
    "Now once you are done with changes in the dataset, what is the value of the lowest percentage, the highest percentage and the percentage of Small size categories in the column named “Size”?\n"
   ]
  },
  {
   "cell_type": "code",
   "execution_count": 5,
   "metadata": {},
   "outputs": [
    {
     "data": {
      "text/plain": [
       "Medium         35.699374\n",
       "Free           34.446764\n",
       "Large          19.415449\n",
       "Small           7.515658\n",
       "Extra large     2.922756\n",
       "Name: Size, dtype: float64"
      ]
     },
     "execution_count": 5,
     "metadata": {},
     "output_type": "execute_result"
    }
   ],
   "source": [
    "# Column fixing, correcting size abbreviation. count the percentage of each size category in \"Size\" column.\n",
    "sizeAbbreviation={\"M\":\"Medium\",\"L\":\"Large\",\"XL\":\"Extra large\",\"free\":\"Free\",\"S\":\"Small\",\"s\":\"Small\",\"small\":\"Small\"}\n",
    "DressAttribute_df.Size=DressAttribute_df.Size.apply(lambda x: sizeAbbreviation[x] if x in sizeAbbreviation else ...)\n",
    "(DressAttribute_df.Size.value_counts()/DressAttribute_df.Size.count())*100"
   ]
  },
  {
   "cell_type": "code",
   "execution_count": 6,
   "metadata": {},
   "outputs": [
    {
     "data": {
      "text/plain": [
       "Medium         171\n",
       "Free           165\n",
       "Large           93\n",
       "Small           36\n",
       "Extra large     14\n",
       "Name: Size, dtype: int64"
      ]
     },
     "execution_count": 6,
     "metadata": {},
     "output_type": "execute_result"
    }
   ],
   "source": [
    "# Print the value counts of each category in \"Size\" column.\n",
    "DressAttribute_df.Size.value_counts()"
   ]
  },
  {
   "cell_type": "markdown",
   "metadata": {},
   "source": [
    "### Impute/Remove Missing values"
   ]
  },
  {
   "cell_type": "code",
   "execution_count": 7,
   "metadata": {},
   "outputs": [
    {
     "name": "stdout",
     "output_type": "stream",
     "text": [
      "Dress Attribute nulls:\n",
      "Dress_ID            0\n",
      "Style               0\n",
      "Price               2\n",
      "Rating              0\n",
      "Size                0\n",
      "Season              2\n",
      "NeckLine            3\n",
      "SleeveLength        2\n",
      "Material          119\n",
      "FabricType        256\n",
      "Decoration        224\n",
      "Pattern Type      102\n",
      "Recommendation      0\n",
      "dtype: int64\n",
      "\n",
      "Dress Sales nulls:\n",
      "Dress_ID        0\n",
      "29-08-2013      0\n",
      "31-08-2013      0\n",
      "09-02-2013      0\n",
      "09-04-2013      0\n",
      "09-06-2013      0\n",
      "09-08-2013      0\n",
      "09-10-2013      0\n",
      "09-12-2013      0\n",
      "14-09-2013      0\n",
      "16-09-2013      0\n",
      "18-09-2013      0\n",
      "20-09-2013      0\n",
      "22-09-2013      0\n",
      "24-09-2013      0\n",
      "26-09-2013    222\n",
      "28-09-2013      0\n",
      "30-09-2013    257\n",
      "10-02-2013    259\n",
      "10-04-2013    258\n",
      "10-06-2013      0\n",
      "10-08-2013    255\n",
      "10-10-2013    255\n",
      "10-12-2013      0\n",
      "dtype: int64\n"
     ]
    }
   ],
   "source": [
    "# Print the null count of each variables of inp0 and inp1.\n",
    "print(f\"Dress Attribute nulls:\\n{DressAttribute_df.isnull().sum()}\") \n",
    "print()\n",
    "print(f\"Dress Sales nulls:\\n{DressSales_df.isnull().sum()}\") "
   ]
  },
  {
   "cell_type": "markdown",
   "metadata": {},
   "source": [
    "You are given another dataset named “Dress Sales”. Now if you observe the datatypes of the columns using ‘inp1.info()’ command, you can identify that there are certain columns defined as object data type though they primarily consist of numeric data.\n",
    "\n",
    "Now if you try and convert these object data type columns into numeric data type(float), you will come across an error message. Try to correct this error.\n",
    "\n",
    "\n",
    "\n",
    "\n",
    "\n"
   ]
  },
  {
   "cell_type": "code",
   "execution_count": 8,
   "metadata": {},
   "outputs": [
    {
     "name": "stdout",
     "output_type": "stream",
     "text": [
      "<class 'pandas.core.frame.DataFrame'>\n",
      "RangeIndex: 479 entries, 0 to 478\n",
      "Data columns (total 24 columns):\n",
      " #   Column      Non-Null Count  Dtype  \n",
      "---  ------      --------------  -----  \n",
      " 0   Dress_ID    479 non-null    float64\n",
      " 1   29-08-2013  479 non-null    int64  \n",
      " 2   31-08-2013  479 non-null    int64  \n",
      " 3   09-02-2013  479 non-null    int64  \n",
      " 4   09-04-2013  479 non-null    int64  \n",
      " 5   09-06-2013  479 non-null    int64  \n",
      " 6   09-08-2013  479 non-null    int64  \n",
      " 7   09-10-2013  479 non-null    int64  \n",
      " 8   09-12-2013  479 non-null    object \n",
      " 9   14-09-2013  479 non-null    object \n",
      " 10  16-09-2013  479 non-null    object \n",
      " 11  18-09-2013  479 non-null    object \n",
      " 12  20-09-2013  479 non-null    object \n",
      " 13  22-09-2013  479 non-null    object \n",
      " 14  24-09-2013  479 non-null    int64  \n",
      " 15  26-09-2013  257 non-null    float64\n",
      " 16  28-09-2013  479 non-null    int64  \n",
      " 17  30-09-2013  222 non-null    float64\n",
      " 18  10-02-2013  220 non-null    float64\n",
      " 19  10-04-2013  221 non-null    float64\n",
      " 20  10-06-2013  479 non-null    int64  \n",
      " 21  10-08-2013  224 non-null    float64\n",
      " 22  10-10-2013  224 non-null    float64\n",
      " 23  10-12-2013  479 non-null    int64  \n",
      "dtypes: float64(7), int64(11), object(6)\n",
      "memory usage: 89.9+ KB\n"
     ]
    }
   ],
   "source": [
    "# Print the data types information of inp1 i.e. \"Dress Sales\" data.\n",
    "DressSales_df.info()"
   ]
  },
  {
   "cell_type": "code",
   "execution_count": 9,
   "metadata": {},
   "outputs": [],
   "source": [
    "# Try to convert the object type into float type of data. YOU GET ERROR MESSAGE.\n"
   ]
  },
  {
   "cell_type": "code",
   "execution_count": 10,
   "metadata": {},
   "outputs": [],
   "source": [
    "# Do the required changes in the \"Dress Sales\" data set to get null values on string values.\n",
    "DressSales_df.loc[DressSales_df['09-12-2013']== 'Removed',\"09-12-2013\"] = np.NaN\n",
    "\n",
    "DressSales_df.loc[DressSales_df['14-09-2013']== 'removed',\"14-09-2013\"] = np.NaN\n",
    "\n",
    "DressSales_df.loc[DressSales_df['16-09-2013']== 'removed',\"16-09-2013\"] = np.NaN\n",
    "\n",
    "DressSales_df.loc[DressSales_df['18-09-2013']== 'removed',\"18-09-2013\"] = np.NaN\n",
    "\n",
    "DressSales_df.loc[DressSales_df['20-09-2013']== 'removed',\"20-09-2013\"] = np.NaN\n",
    "\n",
    "DressSales_df.loc[DressSales_df['22-09-2013']== 'Orders',\"22-09-2013\"] = np.NaN"
   ]
  },
  {
   "cell_type": "markdown",
   "metadata": {},
   "source": [
    "##### Before converting Object Data type into float"
   ]
  },
  {
   "cell_type": "code",
   "execution_count": 11,
   "metadata": {},
   "outputs": [
    {
     "name": "stdout",
     "output_type": "stream",
     "text": [
      "<class 'pandas.core.frame.DataFrame'>\n",
      "RangeIndex: 479 entries, 0 to 478\n",
      "Data columns (total 24 columns):\n",
      " #   Column      Non-Null Count  Dtype  \n",
      "---  ------      --------------  -----  \n",
      " 0   Dress_ID    479 non-null    float64\n",
      " 1   29-08-2013  479 non-null    int64  \n",
      " 2   31-08-2013  479 non-null    int64  \n",
      " 3   09-02-2013  479 non-null    int64  \n",
      " 4   09-04-2013  479 non-null    int64  \n",
      " 5   09-06-2013  479 non-null    int64  \n",
      " 6   09-08-2013  479 non-null    int64  \n",
      " 7   09-10-2013  479 non-null    int64  \n",
      " 8   09-12-2013  478 non-null    object \n",
      " 9   14-09-2013  478 non-null    object \n",
      " 10  16-09-2013  478 non-null    object \n",
      " 11  18-09-2013  478 non-null    object \n",
      " 12  20-09-2013  478 non-null    object \n",
      " 13  22-09-2013  478 non-null    object \n",
      " 14  24-09-2013  479 non-null    int64  \n",
      " 15  26-09-2013  257 non-null    float64\n",
      " 16  28-09-2013  479 non-null    int64  \n",
      " 17  30-09-2013  222 non-null    float64\n",
      " 18  10-02-2013  220 non-null    float64\n",
      " 19  10-04-2013  221 non-null    float64\n",
      " 20  10-06-2013  479 non-null    int64  \n",
      " 21  10-08-2013  224 non-null    float64\n",
      " 22  10-10-2013  224 non-null    float64\n",
      " 23  10-12-2013  479 non-null    int64  \n",
      "dtypes: float64(7), int64(11), object(6)\n",
      "memory usage: 89.9+ KB\n"
     ]
    }
   ],
   "source": [
    "DressSales_df.info()"
   ]
  },
  {
   "cell_type": "code",
   "execution_count": 12,
   "metadata": {},
   "outputs": [
    {
     "name": "stdout",
     "output_type": "stream",
     "text": [
      "<class 'pandas.core.frame.DataFrame'>\n",
      "RangeIndex: 479 entries, 0 to 478\n",
      "Data columns (total 24 columns):\n",
      " #   Column      Non-Null Count  Dtype  \n",
      "---  ------      --------------  -----  \n",
      " 0   Dress_ID    479 non-null    float64\n",
      " 1   29-08-2013  479 non-null    int64  \n",
      " 2   31-08-2013  479 non-null    int64  \n",
      " 3   09-02-2013  479 non-null    int64  \n",
      " 4   09-04-2013  479 non-null    int64  \n",
      " 5   09-06-2013  479 non-null    int64  \n",
      " 6   09-08-2013  479 non-null    int64  \n",
      " 7   09-10-2013  479 non-null    int64  \n",
      " 8   09-12-2013  478 non-null    float64\n",
      " 9   14-09-2013  478 non-null    float64\n",
      " 10  16-09-2013  478 non-null    float64\n",
      " 11  18-09-2013  478 non-null    float64\n",
      " 12  20-09-2013  478 non-null    float64\n",
      " 13  22-09-2013  478 non-null    float64\n",
      " 14  24-09-2013  479 non-null    int64  \n",
      " 15  26-09-2013  257 non-null    float64\n",
      " 16  28-09-2013  479 non-null    int64  \n",
      " 17  30-09-2013  222 non-null    float64\n",
      " 18  10-02-2013  220 non-null    float64\n",
      " 19  10-04-2013  221 non-null    float64\n",
      " 20  10-06-2013  479 non-null    int64  \n",
      " 21  10-08-2013  224 non-null    float64\n",
      " 22  10-10-2013  224 non-null    float64\n",
      " 23  10-12-2013  479 non-null    int64  \n",
      "dtypes: float64(13), int64(11)\n",
      "memory usage: 89.9 KB\n"
     ]
    }
   ],
   "source": [
    "# Convert the object type columns in \"Dress Sales\" into float type of data type.\n",
    "tempObjDtypeList=[\"09-12-2013\",\"14-09-2013\",\"16-09-2013\",\"18-09-2013\",\"20-09-2013\",\"22-09-2013\"]\n",
    "for i in tempObjDtypeList:\n",
    "    DressSales_df[i]= DressSales_df[i].astype(float)\n",
    "\n",
    "DressSales_df.info()\n"
   ]
  },
  {
   "cell_type": "markdown",
   "metadata": {},
   "source": [
    "When you see the null counts in “Dress Sales” dataset after performing all the operations that have been mentioned in jupyter notebook, you will find that there are some columns in “Dress Sales” data where there are more than 40% of missing values. Based on your understanding of dealing with missing values do the following steps."
   ]
  },
  {
   "cell_type": "code",
   "execution_count": 13,
   "metadata": {},
   "outputs": [
    {
     "data": {
      "text/plain": [
       "Dress_ID       0.000000\n",
       "29-08-2013     0.000000\n",
       "31-08-2013     0.000000\n",
       "09-02-2013     0.000000\n",
       "09-04-2013     0.000000\n",
       "09-06-2013     0.000000\n",
       "09-08-2013     0.000000\n",
       "09-10-2013     0.000000\n",
       "09-12-2013     0.208768\n",
       "14-09-2013     0.208768\n",
       "16-09-2013     0.208768\n",
       "18-09-2013     0.208768\n",
       "20-09-2013     0.208768\n",
       "22-09-2013     0.208768\n",
       "24-09-2013     0.000000\n",
       "26-09-2013    46.346555\n",
       "28-09-2013     0.000000\n",
       "30-09-2013    53.653445\n",
       "10-02-2013    54.070981\n",
       "10-04-2013    53.862213\n",
       "10-06-2013     0.000000\n",
       "10-08-2013    53.235908\n",
       "10-10-2013    53.235908\n",
       "10-12-2013     0.000000\n",
       "dtype: float64"
      ]
     },
     "execution_count": 13,
     "metadata": {},
     "output_type": "execute_result"
    }
   ],
   "source": [
    "# Print the null percetange of each column of inp1.\n",
    "# (DressSales_df.isnull().sum()/DressSales_df.count())*100\n",
    "\n",
    "(DressSales_df.isnull().sum()/len(DressSales_df))*100\n",
    "\n"
   ]
  },
  {
   "cell_type": "code",
   "execution_count": 14,
   "metadata": {},
   "outputs": [],
   "source": [
    "# Drop the columns in \"Dress Sales\" which have more than 40% of missing values.\n",
    "SeriesData=(DressSales_df.isnull().sum()/len(DressSales_df))*100>40\n",
    "trueData= SeriesData.index[SeriesData==True].tolist()\n",
    "\n",
    "DressSales_df.drop(trueData,axis=1,inplace=True)"
   ]
  },
  {
   "cell_type": "markdown",
   "metadata": {},
   "source": [
    "You should categorise the dates into seasons in “Dress Sales” data to simplify the analysis according to the following criteria:\n",
    "- June, July and August: Summer.\n",
    "- September, October and November: Autumn.\n",
    "- December, January and February: WInter.\n",
    "- March, April and May: Spring.\n",
    "\n",
    "\n"
   ]
  },
  {
   "cell_type": "code",
   "execution_count": 15,
   "metadata": {},
   "outputs": [
    {
     "name": "stdout",
     "output_type": "stream",
     "text": [
      "['29-08-2013', '31-08-2013', '09-06-2013', '09-08-2013', '10-06-2013']\n",
      "['09-10-2013', '14-09-2013', '16-09-2013', '18-09-2013', '20-09-2013', '22-09-2013', '24-09-2013', '28-09-2013']\n",
      "['09-02-2013', '09-12-2013', '10-12-2013']\n",
      "['09-04-2013']\n"
     ]
    }
   ],
   "source": [
    "# Create the four seasons columns in DressSales_df, according to the above criteria.\n",
    "\n",
    "summerList=list()\n",
    "autumnList=list()\n",
    "winterList=list()\n",
    "springList=list()\n",
    "def findSeasons(x):\n",
    "    if x[3:5] in ['06','07','08']:\n",
    "        summerList.append(x)\n",
    "    elif x[3:5] in ['09','10','11']:\n",
    "        autumnList.append(x)\n",
    "    elif x[3:5] in ['01','02','12']:\n",
    "        winterList.append(x)\n",
    "    elif x[3:5] in ['03','04','05']:\n",
    "        springList.append(x)\n",
    "        \n",
    "    return None\n",
    "\n",
    "list(map(lambda x:findSeasons(x), DressSales_df.columns.tolist()))\n",
    "\n",
    "print(summerList)\n",
    "print(autumnList)\n",
    "print(winterList)\n",
    "print(springList)\n",
    "\n"
   ]
  },
  {
   "cell_type": "code",
   "execution_count": 16,
   "metadata": {},
   "outputs": [],
   "source": [
    "DressSales_df['Summer']=DressSales_df['29-08-2013']+DressSales_df['31-08-2013']+DressSales_df['09-06-2013']+DressSales_df['09-08-2013']+DressSales_df['10-06-2013']\n",
    "DressSales_df['Autumn']=DressSales_df['09-10-2013']+DressSales_df['14-09-2013']+DressSales_df['16-09-2013']+DressSales_df['18-09-2013']+DressSales_df['20-09-2013']+DressSales_df['22-09-2013']+DressSales_df['24-09-2013']+DressSales_df['28-09-2013']\n",
    "DressSales_df['Winter']=DressSales_df['09-02-2013']+DressSales_df['09-12-2013']+DressSales_df['10-12-2013']\n",
    "DressSales_df['Spring']=DressSales_df['09-04-2013']"
   ]
  },
  {
   "cell_type": "code",
   "execution_count": 17,
   "metadata": {},
   "outputs": [
    {
     "name": "stdout",
     "output_type": "stream",
     "text": [
      "Summer: 691907\n",
      "Autumn: 1353543.0\n",
      "Winter: 473640.0\n",
      "Spring: 143600\n"
     ]
    }
   ],
   "source": [
    "# calculate the sum of sales in each seasons in inp1 i.e. \"Dress Sales\".\n",
    "print('Summer:',DressSales_df['Summer'].sum())\n",
    "print('Autumn:',DressSales_df['Autumn'].sum())\n",
    "print('Winter:',DressSales_df['Winter'].sum())\n",
    "print('Spring:',DressSales_df['Spring'].sum())\n",
    "\n"
   ]
  },
  {
   "cell_type": "markdown",
   "metadata": {},
   "source": [
    "Now let's merge inp1 with inp0 with left join manner, so that the information of inp0 should remain intact."
   ]
  },
  {
   "cell_type": "code",
   "execution_count": 18,
   "metadata": {},
   "outputs": [
    {
     "data": {
      "text/html": [
       "<div>\n",
       "<style scoped>\n",
       "    .dataframe tbody tr th:only-of-type {\n",
       "        vertical-align: middle;\n",
       "    }\n",
       "\n",
       "    .dataframe tbody tr th {\n",
       "        vertical-align: top;\n",
       "    }\n",
       "\n",
       "    .dataframe thead th {\n",
       "        text-align: right;\n",
       "    }\n",
       "</style>\n",
       "<table border=\"1\" class=\"dataframe\">\n",
       "  <thead>\n",
       "    <tr style=\"text-align: right;\">\n",
       "      <th></th>\n",
       "      <th>Dress_ID</th>\n",
       "      <th>Style</th>\n",
       "      <th>Price</th>\n",
       "      <th>Rating</th>\n",
       "      <th>Size</th>\n",
       "      <th>Season</th>\n",
       "      <th>NeckLine</th>\n",
       "      <th>SleeveLength</th>\n",
       "      <th>Material</th>\n",
       "      <th>FabricType</th>\n",
       "      <th>...</th>\n",
       "      <th>20-09-2013</th>\n",
       "      <th>22-09-2013</th>\n",
       "      <th>24-09-2013</th>\n",
       "      <th>28-09-2013</th>\n",
       "      <th>10-06-2013</th>\n",
       "      <th>10-12-2013</th>\n",
       "      <th>Summer</th>\n",
       "      <th>Autumn</th>\n",
       "      <th>Winter</th>\n",
       "      <th>Spring</th>\n",
       "    </tr>\n",
       "  </thead>\n",
       "  <tbody>\n",
       "    <tr>\n",
       "      <th>0</th>\n",
       "      <td>1006032852</td>\n",
       "      <td>Sexy</td>\n",
       "      <td>Low</td>\n",
       "      <td>4.6</td>\n",
       "      <td>Medium</td>\n",
       "      <td>Summer</td>\n",
       "      <td>o-neck</td>\n",
       "      <td>sleevless</td>\n",
       "      <td>NaN</td>\n",
       "      <td>chiffon</td>\n",
       "      <td>...</td>\n",
       "      <td>3386.0</td>\n",
       "      <td>3479.0</td>\n",
       "      <td>3554</td>\n",
       "      <td>3706</td>\n",
       "      <td>3897</td>\n",
       "      <td>4048</td>\n",
       "      <td>13899</td>\n",
       "      <td>26857.0</td>\n",
       "      <td>9658.0</td>\n",
       "      <td>2660</td>\n",
       "    </tr>\n",
       "    <tr>\n",
       "      <th>1</th>\n",
       "      <td>1212192089</td>\n",
       "      <td>Casual</td>\n",
       "      <td>Low</td>\n",
       "      <td>0.0</td>\n",
       "      <td>Large</td>\n",
       "      <td>Summer</td>\n",
       "      <td>o-neck</td>\n",
       "      <td>Petal</td>\n",
       "      <td>microfiber</td>\n",
       "      <td>NaN</td>\n",
       "      <td>...</td>\n",
       "      <td>2106.0</td>\n",
       "      <td>2454.0</td>\n",
       "      <td>2710</td>\n",
       "      <td>3258</td>\n",
       "      <td>3911</td>\n",
       "      <td>4277</td>\n",
       "      <td>6216</td>\n",
       "      <td>17311.0</td>\n",
       "      <td>6405.0</td>\n",
       "      <td>750</td>\n",
       "    </tr>\n",
       "    <tr>\n",
       "      <th>2</th>\n",
       "      <td>1190380701</td>\n",
       "      <td>vintage</td>\n",
       "      <td>High</td>\n",
       "      <td>0.0</td>\n",
       "      <td>Large</td>\n",
       "      <td>Automn</td>\n",
       "      <td>o-neck</td>\n",
       "      <td>full</td>\n",
       "      <td>polyster</td>\n",
       "      <td>NaN</td>\n",
       "      <td>...</td>\n",
       "      <td>10.0</td>\n",
       "      <td>11.0</td>\n",
       "      <td>11</td>\n",
       "      <td>11</td>\n",
       "      <td>11</td>\n",
       "      <td>11</td>\n",
       "      <td>40</td>\n",
       "      <td>82.0</td>\n",
       "      <td>28.0</td>\n",
       "      <td>7</td>\n",
       "    </tr>\n",
       "    <tr>\n",
       "      <th>3</th>\n",
       "      <td>966005983</td>\n",
       "      <td>Brief</td>\n",
       "      <td>Average</td>\n",
       "      <td>4.6</td>\n",
       "      <td>Large</td>\n",
       "      <td>Spring</td>\n",
       "      <td>o-neck</td>\n",
       "      <td>full</td>\n",
       "      <td>silk</td>\n",
       "      <td>chiffon</td>\n",
       "      <td>...</td>\n",
       "      <td>1812.0</td>\n",
       "      <td>1845.0</td>\n",
       "      <td>1878</td>\n",
       "      <td>1914</td>\n",
       "      <td>1952</td>\n",
       "      <td>1963</td>\n",
       "      <td>7213</td>\n",
       "      <td>14411.0</td>\n",
       "      <td>5012.0</td>\n",
       "      <td>1455</td>\n",
       "    </tr>\n",
       "    <tr>\n",
       "      <th>4</th>\n",
       "      <td>876339541</td>\n",
       "      <td>cute</td>\n",
       "      <td>Low</td>\n",
       "      <td>4.5</td>\n",
       "      <td>Medium</td>\n",
       "      <td>Summer</td>\n",
       "      <td>o-neck</td>\n",
       "      <td>butterfly</td>\n",
       "      <td>chiffonfabric</td>\n",
       "      <td>chiffon</td>\n",
       "      <td>...</td>\n",
       "      <td>1824.0</td>\n",
       "      <td>1919.0</td>\n",
       "      <td>2032</td>\n",
       "      <td>2252</td>\n",
       "      <td>2544</td>\n",
       "      <td>2736</td>\n",
       "      <td>7706</td>\n",
       "      <td>14676.0</td>\n",
       "      <td>5678.0</td>\n",
       "      <td>1396</td>\n",
       "    </tr>\n",
       "  </tbody>\n",
       "</table>\n",
       "<p>5 rows × 34 columns</p>\n",
       "</div>"
      ],
      "text/plain": [
       "     Dress_ID    Style    Price  Rating    Size  Season NeckLine SleeveLength  \\\n",
       "0  1006032852     Sexy      Low     4.6  Medium  Summer   o-neck    sleevless   \n",
       "1  1212192089   Casual      Low     0.0   Large  Summer   o-neck        Petal   \n",
       "2  1190380701  vintage     High     0.0   Large  Automn   o-neck         full   \n",
       "3   966005983    Brief  Average     4.6   Large  Spring   o-neck         full   \n",
       "4   876339541     cute      Low     4.5  Medium  Summer   o-neck    butterfly   \n",
       "\n",
       "        Material FabricType  ... 20-09-2013 22-09-2013  24-09-2013  \\\n",
       "0            NaN    chiffon  ...     3386.0     3479.0        3554   \n",
       "1     microfiber        NaN  ...     2106.0     2454.0        2710   \n",
       "2       polyster        NaN  ...       10.0       11.0          11   \n",
       "3           silk    chiffon  ...     1812.0     1845.0        1878   \n",
       "4  chiffonfabric    chiffon  ...     1824.0     1919.0        2032   \n",
       "\n",
       "   28-09-2013  10-06-2013  10-12-2013  Summer   Autumn  Winter  Spring  \n",
       "0        3706        3897        4048   13899  26857.0  9658.0    2660  \n",
       "1        3258        3911        4277    6216  17311.0  6405.0     750  \n",
       "2          11          11          11      40     82.0    28.0       7  \n",
       "3        1914        1952        1963    7213  14411.0  5012.0    1455  \n",
       "4        2252        2544        2736    7706  14676.0  5678.0    1396  \n",
       "\n",
       "[5 rows x 34 columns]"
      ]
     },
     "execution_count": 18,
     "metadata": {},
     "output_type": "execute_result"
    }
   ],
   "source": [
    "# Merge DressAttribute_df with DressSales_df into DressAttribute_df. this is also called left merge.\n",
    "DressAttribute_df = pd.merge(left=DressAttribute_df,right=DressSales_df, how='left', left_on='Dress_ID', right_on='Dress_ID')\n",
    "DressAttribute_df.head()"
   ]
  },
  {
   "cell_type": "code",
   "execution_count": 19,
   "metadata": {},
   "outputs": [
    {
     "name": "stderr",
     "output_type": "stream",
     "text": [
      "c:\\Users\\002YWG744\\AppData\\Local\\Programs\\Python\\Python310\\lib\\site-packages\\pandas\\core\\indexing.py:1180: UserWarning: Parsing '29-08-2013' in DD/MM/YYYY format. Provide format or specify infer_datetime_format=True for consistent parsing.\n",
      "  return self._get_slice_axis(key, axis=axis)\n"
     ]
    },
    {
     "data": {
      "text/plain": [
       "Dress_ID            0\n",
       "Style               0\n",
       "Price               2\n",
       "Rating              0\n",
       "Size                0\n",
       "Season              2\n",
       "NeckLine            3\n",
       "SleeveLength        2\n",
       "Material          119\n",
       "FabricType        256\n",
       "Decoration        224\n",
       "Pattern Type      102\n",
       "Recommendation      0\n",
       "Summer              0\n",
       "Autumn              2\n",
       "Winter              1\n",
       "Spring              0\n",
       "dtype: int64"
      ]
     },
     "execution_count": 19,
     "metadata": {},
     "output_type": "execute_result"
    }
   ],
   "source": [
    "# Now Drop the Date columns from DressAttribute_df as it is already combined into four seasons.\n",
    "DressAttribute_df.drop(DressAttribute_df.loc[:,'29-08-2013':'10-12-2013'].columns, axis= 1, inplace= True)\n",
    "DressAttribute_df.isnull().sum()"
   ]
  },
  {
   "cell_type": "markdown",
   "metadata": {},
   "source": [
    "Print the null count of inp0 to get the idea about the missing values in data set."
   ]
  },
  {
   "cell_type": "code",
   "execution_count": 20,
   "metadata": {},
   "outputs": [
    {
     "data": {
      "text/plain": [
       "Dress_ID            0\n",
       "Style               0\n",
       "Price               2\n",
       "Rating              0\n",
       "Size                0\n",
       "Season              2\n",
       "NeckLine            3\n",
       "SleeveLength        2\n",
       "Material          119\n",
       "FabricType        256\n",
       "Decoration        224\n",
       "Pattern Type      102\n",
       "Recommendation      0\n",
       "Summer              0\n",
       "Autumn              2\n",
       "Winter              1\n",
       "Spring              0\n",
       "dtype: int64"
      ]
     },
     "execution_count": 20,
     "metadata": {},
     "output_type": "execute_result"
    }
   ],
   "source": [
    "# Print the null count of each columns in inp0 dataframe i.e. combined data frame of inp0 and inp1 without date columns.\n",
    "DressAttribute_df.isnull().sum()"
   ]
  },
  {
   "cell_type": "markdown",
   "metadata": {},
   "source": [
    "You can see that there are two types of variables one with a large number of missing values and another is very less number of missing values. These two columns can be categorized as:\n",
    "\n",
    "Type-1: Missing values are very less (around 2 or 3 missing values): Price, Season, NeckLine, SleeveLength, Winter and Autumn. \n",
    "\n",
    "Type-2: Missing values are large in numbers (more than 15%): Material, FabricType, Decoration and Pattern Type.\n",
    "\n"
   ]
  },
  {
   "cell_type": "code",
   "execution_count": 21,
   "metadata": {},
   "outputs": [],
   "source": [
    "# Deal with the missing values of Type-1 columns: Price, Season, NeckLine, SleeveLength, Winter and Autumn.\n",
    "DressAttribute_df['Price'].fillna(DressAttribute_df['Price'].mode(), inplace=True)\n",
    "DressAttribute_df['Season'].fillna(DressAttribute_df['Season'].mode(), inplace=True)\n",
    "DressAttribute_df['NeckLine'].fillna(DressAttribute_df['NeckLine'].mode(), inplace=True)\n",
    "DressAttribute_df['SleeveLength'].fillna(DressAttribute_df['SleeveLength'].mode(), inplace=True)\n",
    "DressAttribute_df['Winter'].fillna(DressAttribute_df['Winter'].mode(), inplace=True)\n",
    "DressAttribute_df['Autumn'].fillna(DressAttribute_df['Autumn'].mode(), inplace=True)"
   ]
  },
  {
   "cell_type": "code",
   "execution_count": 22,
   "metadata": {},
   "outputs": [],
   "source": [
    "# Deal with the missing values for Type-2 columns: Material, FabricType, Decoration and Pattern Type.\n",
    "DressAttribute_df.dropna(axis=0, subset=['Material','FabricType','Decoration','Pattern Type'], inplace=True)"
   ]
  },
  {
   "cell_type": "markdown",
   "metadata": {},
   "source": [
    "### Standardise value "
   ]
  },
  {
   "cell_type": "markdown",
   "metadata": {},
   "source": [
    "In the given dataset, there are certain discrepancies with the categorical names such as irregular spellings. Choose the correct option of columns with irregular categories and update them.\n",
    " \n",
    "- Season, NeckLine\n",
    "- Price, Material\n",
    "- fabricType, Decoration\n",
    "- Season, SleeveLength\n"
   ]
  },
  {
   "cell_type": "code",
   "execution_count": 23,
   "metadata": {},
   "outputs": [
    {
     "data": {
      "text/plain": [
       "array(['Spring', 'Summer', 'Automn', 'Winter', 'winter', 'Autumn'],\n",
       "      dtype=object)"
      ]
     },
     "execution_count": 23,
     "metadata": {},
     "output_type": "execute_result"
    }
   ],
   "source": [
    "#correcting the spellings.\n",
    "DressAttribute_df.Season.unique()"
   ]
  },
  {
   "cell_type": "code",
   "execution_count": 24,
   "metadata": {},
   "outputs": [
    {
     "data": {
      "text/plain": [
       "array(['Spring', 'Summer', 'Autumn', 'Winter'], dtype=object)"
      ]
     },
     "execution_count": 24,
     "metadata": {},
     "output_type": "execute_result"
    }
   ],
   "source": [
    "#correcting the Spellings.\n",
    "DressAttribute_df['Season'].replace(['Automn','winter'], ['Autumn','Winter'], inplace=True)\n",
    "DressAttribute_df['Season'].unique()"
   ]
  },
  {
   "cell_type": "markdown",
   "metadata": {},
   "source": [
    "## Univariate Analysis "
   ]
  },
  {
   "cell_type": "code",
   "execution_count": 25,
   "metadata": {},
   "outputs": [
    {
     "data": {
      "text/plain": [
       "Index(['Dress_ID', 'Style', 'Price', 'Rating', 'Size', 'Season', 'NeckLine',\n",
       "       'SleeveLength', 'Material', 'FabricType', 'Decoration', 'Pattern Type',\n",
       "       'Recommendation', 'Summer', 'Autumn', 'Winter', 'Spring'],\n",
       "      dtype='object')"
      ]
     },
     "execution_count": 25,
     "metadata": {},
     "output_type": "execute_result"
    }
   ],
   "source": [
    "DressAttribute_df.columns"
   ]
  },
  {
   "cell_type": "markdown",
   "metadata": {},
   "source": [
    "### Categorical Unordered Univariate Analysis\n",
    " "
   ]
  },
  {
   "cell_type": "markdown",
   "metadata": {},
   "source": [
    "There is a column named ‘Style’ in ‘Attribute Dataset’ which consists of the different style categories of the women apparels. Certain categories whose total sale is less than 50000 across all the seasons is considered under one single category as ‘Others’.\n"
   ]
  },
  {
   "cell_type": "markdown",
   "metadata": {},
   "source": [
    "Which of the following categories in ‘Style’ column can be grouped into ‘Others’ category? and perform the grouping operation in the notebook for further analysis.\n",
    "- Flare, fashion\n",
    "- Novelty, bohemian\n",
    "- OL, fashion, work\n",
    "- Novelty, fashion, Flare\n"
   ]
  },
  {
   "cell_type": "code",
   "execution_count": 26,
   "metadata": {},
   "outputs": [
    {
     "data": {
      "text/html": [
       "<div>\n",
       "<style scoped>\n",
       "    .dataframe tbody tr th:only-of-type {\n",
       "        vertical-align: middle;\n",
       "    }\n",
       "\n",
       "    .dataframe tbody tr th {\n",
       "        vertical-align: top;\n",
       "    }\n",
       "\n",
       "    .dataframe thead th {\n",
       "        text-align: right;\n",
       "    }\n",
       "</style>\n",
       "<table border=\"1\" class=\"dataframe\">\n",
       "  <thead>\n",
       "    <tr style=\"text-align: right;\">\n",
       "      <th></th>\n",
       "      <th>Dress_ID</th>\n",
       "      <th>Style</th>\n",
       "      <th>Price</th>\n",
       "      <th>Rating</th>\n",
       "      <th>Size</th>\n",
       "      <th>Season</th>\n",
       "      <th>NeckLine</th>\n",
       "      <th>SleeveLength</th>\n",
       "      <th>Material</th>\n",
       "      <th>FabricType</th>\n",
       "      <th>Decoration</th>\n",
       "      <th>Pattern Type</th>\n",
       "      <th>Recommendation</th>\n",
       "      <th>Summer</th>\n",
       "      <th>Autumn</th>\n",
       "      <th>Winter</th>\n",
       "      <th>Spring</th>\n",
       "    </tr>\n",
       "  </thead>\n",
       "  <tbody>\n",
       "    <tr>\n",
       "      <th>3</th>\n",
       "      <td>966005983</td>\n",
       "      <td>Brief</td>\n",
       "      <td>Average</td>\n",
       "      <td>4.6</td>\n",
       "      <td>Large</td>\n",
       "      <td>Spring</td>\n",
       "      <td>o-neck</td>\n",
       "      <td>full</td>\n",
       "      <td>silk</td>\n",
       "      <td>chiffon</td>\n",
       "      <td>embroidary</td>\n",
       "      <td>print</td>\n",
       "      <td>1</td>\n",
       "      <td>7213</td>\n",
       "      <td>14411.0</td>\n",
       "      <td>5012.0</td>\n",
       "      <td>1455</td>\n",
       "    </tr>\n",
       "    <tr>\n",
       "      <th>4</th>\n",
       "      <td>876339541</td>\n",
       "      <td>cute</td>\n",
       "      <td>Low</td>\n",
       "      <td>4.5</td>\n",
       "      <td>Medium</td>\n",
       "      <td>Summer</td>\n",
       "      <td>o-neck</td>\n",
       "      <td>butterfly</td>\n",
       "      <td>chiffonfabric</td>\n",
       "      <td>chiffon</td>\n",
       "      <td>bow</td>\n",
       "      <td>dot</td>\n",
       "      <td>0</td>\n",
       "      <td>7706</td>\n",
       "      <td>14676.0</td>\n",
       "      <td>5678.0</td>\n",
       "      <td>1396</td>\n",
       "    </tr>\n",
       "    <tr>\n",
       "      <th>7</th>\n",
       "      <td>1113094204</td>\n",
       "      <td>Flare</td>\n",
       "      <td>Average</td>\n",
       "      <td>0.0</td>\n",
       "      <td>Free</td>\n",
       "      <td>Spring</td>\n",
       "      <td>v-neck</td>\n",
       "      <td>short</td>\n",
       "      <td>cotton</td>\n",
       "      <td>broadcloth</td>\n",
       "      <td>beading</td>\n",
       "      <td>solid</td>\n",
       "      <td>1</td>\n",
       "      <td>68</td>\n",
       "      <td>181.0</td>\n",
       "      <td>60.0</td>\n",
       "      <td>12</td>\n",
       "    </tr>\n",
       "    <tr>\n",
       "      <th>9</th>\n",
       "      <td>1117293701</td>\n",
       "      <td>party</td>\n",
       "      <td>Average</td>\n",
       "      <td>5.0</td>\n",
       "      <td>Free</td>\n",
       "      <td>Summer</td>\n",
       "      <td>o-neck</td>\n",
       "      <td>full</td>\n",
       "      <td>polyster</td>\n",
       "      <td>broadcloth</td>\n",
       "      <td>lace</td>\n",
       "      <td>solid</td>\n",
       "      <td>0</td>\n",
       "      <td>275</td>\n",
       "      <td>624.0</td>\n",
       "      <td>245.0</td>\n",
       "      <td>49</td>\n",
       "    </tr>\n",
       "    <tr>\n",
       "      <th>27</th>\n",
       "      <td>942808364</td>\n",
       "      <td>cute</td>\n",
       "      <td>Low</td>\n",
       "      <td>4.3</td>\n",
       "      <td>Free</td>\n",
       "      <td>Autumn</td>\n",
       "      <td>o-neck</td>\n",
       "      <td>sleevless</td>\n",
       "      <td>polyster</td>\n",
       "      <td>chiffon</td>\n",
       "      <td>sashes</td>\n",
       "      <td>striped</td>\n",
       "      <td>0</td>\n",
       "      <td>2288</td>\n",
       "      <td>4073.0</td>\n",
       "      <td>1497.0</td>\n",
       "      <td>475</td>\n",
       "    </tr>\n",
       "    <tr>\n",
       "      <th>...</th>\n",
       "      <td>...</td>\n",
       "      <td>...</td>\n",
       "      <td>...</td>\n",
       "      <td>...</td>\n",
       "      <td>...</td>\n",
       "      <td>...</td>\n",
       "      <td>...</td>\n",
       "      <td>...</td>\n",
       "      <td>...</td>\n",
       "      <td>...</td>\n",
       "      <td>...</td>\n",
       "      <td>...</td>\n",
       "      <td>...</td>\n",
       "      <td>...</td>\n",
       "      <td>...</td>\n",
       "      <td>...</td>\n",
       "      <td>...</td>\n",
       "    </tr>\n",
       "    <tr>\n",
       "      <th>468</th>\n",
       "      <td>511503677</td>\n",
       "      <td>Casual</td>\n",
       "      <td>Low</td>\n",
       "      <td>4.4</td>\n",
       "      <td>Medium</td>\n",
       "      <td>Summer</td>\n",
       "      <td>o-neck</td>\n",
       "      <td>halfsleeve</td>\n",
       "      <td>chiffonfabric</td>\n",
       "      <td>chiffon</td>\n",
       "      <td>bow</td>\n",
       "      <td>solid</td>\n",
       "      <td>0</td>\n",
       "      <td>1836</td>\n",
       "      <td>5018.0</td>\n",
       "      <td>1192.0</td>\n",
       "      <td>623</td>\n",
       "    </tr>\n",
       "    <tr>\n",
       "      <th>470</th>\n",
       "      <td>641665398</td>\n",
       "      <td>Casual</td>\n",
       "      <td>Low</td>\n",
       "      <td>4.8</td>\n",
       "      <td>Free</td>\n",
       "      <td>Winter</td>\n",
       "      <td>bowneck</td>\n",
       "      <td>full</td>\n",
       "      <td>polyster</td>\n",
       "      <td>chiffon</td>\n",
       "      <td>bow</td>\n",
       "      <td>solid</td>\n",
       "      <td>0</td>\n",
       "      <td>30</td>\n",
       "      <td>80.0</td>\n",
       "      <td>19.0</td>\n",
       "      <td>10</td>\n",
       "    </tr>\n",
       "    <tr>\n",
       "      <th>473</th>\n",
       "      <td>817353671</td>\n",
       "      <td>bohemian</td>\n",
       "      <td>Low</td>\n",
       "      <td>4.6</td>\n",
       "      <td>Free</td>\n",
       "      <td>Summer</td>\n",
       "      <td>o-neck</td>\n",
       "      <td>sleevless</td>\n",
       "      <td>cotton</td>\n",
       "      <td>chiffon</td>\n",
       "      <td>none</td>\n",
       "      <td>solid</td>\n",
       "      <td>1</td>\n",
       "      <td>737</td>\n",
       "      <td>2059.0</td>\n",
       "      <td>538.0</td>\n",
       "      <td>217</td>\n",
       "    </tr>\n",
       "    <tr>\n",
       "      <th>477</th>\n",
       "      <td>655464934</td>\n",
       "      <td>Casual</td>\n",
       "      <td>Average</td>\n",
       "      <td>4.6</td>\n",
       "      <td>Large</td>\n",
       "      <td>Winter</td>\n",
       "      <td>boat-neck</td>\n",
       "      <td>sleevless</td>\n",
       "      <td>silk</td>\n",
       "      <td>broadcloth</td>\n",
       "      <td>applique</td>\n",
       "      <td>print</td>\n",
       "      <td>1</td>\n",
       "      <td>769</td>\n",
       "      <td>2117.0</td>\n",
       "      <td>516.0</td>\n",
       "      <td>254</td>\n",
       "    </tr>\n",
       "    <tr>\n",
       "      <th>478</th>\n",
       "      <td>919930954</td>\n",
       "      <td>Casual</td>\n",
       "      <td>Low</td>\n",
       "      <td>4.4</td>\n",
       "      <td>Free</td>\n",
       "      <td>Summer</td>\n",
       "      <td>v-neck</td>\n",
       "      <td>short</td>\n",
       "      <td>cotton</td>\n",
       "      <td>Corduroy</td>\n",
       "      <td>lace</td>\n",
       "      <td>solid</td>\n",
       "      <td>0</td>\n",
       "      <td>1763</td>\n",
       "      <td>4828.0</td>\n",
       "      <td>1258.0</td>\n",
       "      <td>538</td>\n",
       "    </tr>\n",
       "  </tbody>\n",
       "</table>\n",
       "<p>101 rows × 17 columns</p>\n",
       "</div>"
      ],
      "text/plain": [
       "       Dress_ID     Style    Price  Rating    Size  Season   NeckLine  \\\n",
       "3     966005983     Brief  Average     4.6   Large  Spring     o-neck   \n",
       "4     876339541      cute      Low     4.5  Medium  Summer     o-neck   \n",
       "7    1113094204     Flare  Average     0.0    Free  Spring     v-neck   \n",
       "9    1117293701     party  Average     5.0    Free  Summer     o-neck   \n",
       "27    942808364      cute      Low     4.3    Free  Autumn     o-neck   \n",
       "..          ...       ...      ...     ...     ...     ...        ...   \n",
       "468   511503677    Casual      Low     4.4  Medium  Summer     o-neck   \n",
       "470   641665398    Casual      Low     4.8    Free  Winter    bowneck   \n",
       "473   817353671  bohemian      Low     4.6    Free  Summer     o-neck   \n",
       "477   655464934    Casual  Average     4.6   Large  Winter  boat-neck   \n",
       "478   919930954    Casual      Low     4.4    Free  Summer     v-neck   \n",
       "\n",
       "    SleeveLength       Material  FabricType  Decoration Pattern Type  \\\n",
       "3           full           silk     chiffon  embroidary        print   \n",
       "4      butterfly  chiffonfabric     chiffon         bow          dot   \n",
       "7          short         cotton  broadcloth     beading        solid   \n",
       "9           full       polyster  broadcloth        lace        solid   \n",
       "27     sleevless       polyster     chiffon      sashes      striped   \n",
       "..           ...            ...         ...         ...          ...   \n",
       "468   halfsleeve  chiffonfabric     chiffon         bow        solid   \n",
       "470         full       polyster     chiffon         bow        solid   \n",
       "473    sleevless         cotton     chiffon        none        solid   \n",
       "477    sleevless           silk  broadcloth    applique        print   \n",
       "478        short         cotton    Corduroy        lace        solid   \n",
       "\n",
       "     Recommendation  Summer   Autumn  Winter  Spring  \n",
       "3                 1    7213  14411.0  5012.0    1455  \n",
       "4                 0    7706  14676.0  5678.0    1396  \n",
       "7                 1      68    181.0    60.0      12  \n",
       "9                 0     275    624.0   245.0      49  \n",
       "27                0    2288   4073.0  1497.0     475  \n",
       "..              ...     ...      ...     ...     ...  \n",
       "468               0    1836   5018.0  1192.0     623  \n",
       "470               0      30     80.0    19.0      10  \n",
       "473               1     737   2059.0   538.0     217  \n",
       "477               1     769   2117.0   516.0     254  \n",
       "478               0    1763   4828.0  1258.0     538  \n",
       "\n",
       "[101 rows x 17 columns]"
      ]
     },
     "execution_count": 26,
     "metadata": {},
     "output_type": "execute_result"
    }
   ],
   "source": [
    "DressAttribute_df"
   ]
  },
  {
   "cell_type": "code",
   "execution_count": 27,
   "metadata": {},
   "outputs": [],
   "source": [
    "# Group \"Style\" categories into \"Others\" which have less than 50000 sales across all the seasons.\n",
    "DressAttribute_df['TotalSale']= DressAttribute_df.apply(lambda x: x['Summer']+ x['Winter']+ x['Autumn']+ x['Spring'], axis=1)"
   ]
  },
  {
   "cell_type": "code",
   "execution_count": 28,
   "metadata": {},
   "outputs": [],
   "source": [
    "DressAttribute_df.replace(DressAttribute_df.groupby('Style').sum()[(DressAttribute_df.groupby('Style').sum())['TotalSale']<50000].index,'Others',inplace=True)"
   ]
  },
  {
   "cell_type": "code",
   "execution_count": 29,
   "metadata": {},
   "outputs": [
    {
     "data": {
      "text/plain": [
       "Casual    0.475248\n",
       "cute      0.198020\n",
       "Others    0.178218\n",
       "Sexy      0.108911\n",
       "Brief     0.039604\n",
       "Name: Style, dtype: float64"
      ]
     },
     "execution_count": 29,
     "metadata": {},
     "output_type": "execute_result"
    }
   ],
   "source": [
    "DressAttribute_df.Style.value_counts(normalize=True)"
   ]
  },
  {
   "cell_type": "markdown",
   "metadata": {},
   "source": [
    "What is the percentage of “cute” and “Others” category in “Style” column in “Attribute DataSet” respectively?\n",
    "- 46%, 5%\n",
    "- 9%, 2.1%\n",
    "- 2.1%, 5%\n",
    "- 13.8%, 9%\n"
   ]
  },
  {
   "cell_type": "markdown",
   "metadata": {},
   "source": [
    "##### Which of the following is an unordered variable in the 'Attribute Dataset'?"
   ]
  },
  {
   "cell_type": "code",
   "execution_count": 30,
   "metadata": {},
   "outputs": [
    {
     "name": "stdout",
     "output_type": "stream",
     "text": [
      "Dress_ID: \n",
      "[ 966005983  876339541 1113094204 1117293701  942808364  629131530\n",
      "  851945460 1150275464 1026634314  943844640  661795386  875312593\n",
      " 1175184188 1160536550  828623528 1019134411 1072477320 1210582154\n",
      "  757260823  734061929 1130994272  907117649 1096779299 1027818824\n",
      "  805438829  732650169 1002440915 1018130478  956758119  903426442\n",
      "  861626197  893330898 1225512606  547555172 1021375534 1246749980\n",
      "  785830491  832391864  722020708  980295760  913978120  956453735\n",
      "  767971724 1167448608  658650071  123456789  886351969  756620535\n",
      " 1216538883 1024954013  877962269  659466129  751364614  743485617\n",
      "  959052557 1246945687 1116072373  912614690 1072784739  944264938\n",
      " 1028061165  961230947  857432541  939250541  754316257  537463111\n",
      "  944930838  818295153  955679920 1039384371 1069577979  845853510\n",
      "  832090686  946741571 1135456589  932913675  924108301  675980168\n",
      "  934830377  870994067  860334943  560474456  907669618 1249825438\n",
      " 1000425584  593007494  751776863  953168456  801216472 1122991519\n",
      "  974438263 1061890181 1033144189  860406062 1109819647 1223469038\n",
      "  511503677  641665398  817353671  655464934  919930954]\n",
      "Style: \n",
      "['Brief' 'cute' 'Others' 'Casual' 'Sexy']\n",
      "Price: \n",
      "['Average' 'Low' 'Medium' 'High']\n",
      "Rating: \n",
      "[4.6 4.5 0.  5.  4.3 4.7 4.4 4.8 3.6 4.2 4.9 4. ]\n",
      "Size: \n",
      "['Large' 'Medium' 'Free' 'Extra large' 'Small']\n",
      "Season: \n",
      "['Spring' 'Summer' 'Autumn' 'Winter']\n",
      "NeckLine: \n",
      "['o-neck' 'v-neck' 'ruffled' 'boat-neck' 'open' 'peterpan-collor'\n",
      " 'slash-neck' 'Sweetheart' 'bowneck' 'turndowncollor']\n",
      "SleeveLength: \n",
      "['full' 'butterfly' 'short' 'sleevless' 'halfsleeve' 'threequarter'\n",
      " 'thressqatar']\n",
      "Material: \n",
      "['silk' 'chiffonfabric' 'cotton' 'polyster' 'linen' 'rayon' 'lycra' 'mix'\n",
      " 'spandex' 'other' 'nylon' 'model' 'shiffon']\n",
      "FabricType: \n",
      "['chiffon' 'broadcloth' 'satin' 'worsted' 'jersey' 'woolen' 'poplin'\n",
      " 'tulle' 'sattin' 'wollen' 'shiffon' 'terry' 'Corduroy']\n",
      "Decoration: \n",
      "['embroidary' 'bow' 'beading' 'lace' 'sashes' 'ruffles' 'applique'\n",
      " 'hollowout' 'sequined' 'feathers' 'ruched' 'tassel' 'pockets' 'plain'\n",
      " 'draped' 'cascading' 'none']\n",
      "Pattern Type: \n",
      "['print' 'dot' 'solid' 'striped' 'animal' 'patchwork' 'geometric']\n",
      "Recommendation: \n",
      "[1 0]\n",
      "Summer: \n",
      "[ 7213  7706    68   275  2288 35577  6871  1265  4724   655 14149  2887\n",
      "    95   216  7338  2953  1770  2376   167 11260   639  6711    69    10\n",
      "  3723  9858   365  1703  2071  4749  5814  2076    42  6500  2083  1324\n",
      "    70   176  1459  4611   454   450   196  3840  1081  2233  1606  1941\n",
      "  1408   355     8   285   434   889   132    86   522   342   268   203\n",
      "   236   371   618   974   598   181   437   156   747  1264  1252    50\n",
      "   362  1089   517   788   689  1743     2   226   143  1067    87    97\n",
      "    80   330    15    31   195   585    22  1836    30   737   769  1763]\n",
      "Autumn: \n",
      "[1.4411e+04 1.4676e+04 1.8100e+02 6.2400e+02 4.0730e+03 5.5532e+04\n",
      " 1.2187e+04 2.7510e+03 8.2840e+03 1.4150e+03 2.3483e+04 5.5900e+03\n",
      " 2.1600e+02 4.9700e+02 1.2361e+04 6.2220e+03 3.3580e+03 5.8790e+03\n",
      " 3.9800e+02 1.8090e+04 1.1290e+03 1.2163e+04 1.5300e+02 1.7000e+01\n",
      " 6.8310e+03 1.6685e+04 6.5300e+02 3.3650e+03 3.9130e+03        nan\n",
      " 1.0090e+04 3.9050e+03 1.0400e+02 1.0125e+04 3.6820e+03 3.9990e+03\n",
      " 1.5200e+02 3.6400e+02 4.7260e+03 2.8710e+03 7.9130e+03 1.0040e+03\n",
      " 9.8800e+02 4.2800e+02 5.8250e+03 2.9230e+03 3.7360e+03 3.1880e+03\n",
      " 5.4540e+03 2.4220e+03 8.2400e+02 1.9000e+01 8.0700e+02 1.2230e+03\n",
      " 2.4190e+03 4.0500e+02 5.0300e+02 2.4800e+02 1.3430e+03 9.5700e+02\n",
      " 7.6300e+02 5.8100e+02 6.6900e+02 1.0780e+03 1.9550e+03 2.5880e+03\n",
      " 1.6570e+03 5.6200e+02 1.2130e+03 6.0200e+02 4.8300e+02 2.0030e+03\n",
      " 3.4040e+03 3.3900e+03 2.7700e+02 1.4400e+02 1.0350e+03 2.9290e+03\n",
      " 1.4770e+03 1.6460e+03 1.8540e+03 1.0000e+00 6.9600e+02 4.2100e+02\n",
      " 2.5870e+03 2.3700e+02 2.7200e+02 2.0800e+02 7.6900e+02 4.7000e+01\n",
      " 8.5000e+01 5.5900e+02 1.6480e+03 1.2600e+02 2.3000e+01 5.0180e+03\n",
      " 8.0000e+01 2.0590e+03 2.1170e+03 4.8280e+03]\n",
      "Winter: \n",
      "[5.0120e+03 5.6780e+03 6.0000e+01 2.4500e+02 1.4970e+03 2.0388e+04\n",
      " 4.5550e+03 1.0610e+03 3.1590e+03 5.8700e+02 8.6970e+03 2.0280e+03\n",
      " 8.3000e+01 1.7000e+02 4.6270e+03 2.3130e+03 1.2860e+03 2.8070e+03\n",
      " 1.4500e+02 6.5240e+03 4.1400e+02 4.6130e+03 8.4000e+01 6.0000e+00\n",
      " 2.4770e+03 6.2180e+03 2.4800e+02 1.2420e+03 2.7800e+03 3.7690e+03\n",
      " 1.4880e+03 3.5000e+01 3.8250e+03 1.3790e+03 1.5440e+03 5.7000e+01\n",
      " 1.2900e+02 1.7950e+03 1.0170e+03 2.9370e+03 3.5500e+02 3.7800e+02\n",
      " 1.5200e+02 2.1320e+03 7.6200e+02 1.3810e+03 1.2290e+03 1.8610e+03\n",
      " 9.0600e+02 3.2400e+02 8.0000e+00 2.3400e+02 3.1000e+02 6.1700e+02\n",
      " 1.1000e+02 1.3400e+02 7.6000e+01 4.2200e+02 2.4700e+02 2.0400e+02\n",
      " 1.5800e+02 1.9200e+02 3.6200e+02 5.2600e+02 6.5000e+02 4.1600e+02\n",
      " 1.5400e+02 3.9600e+02 1.7400e+02 1.3200e+02 6.5600e+02 8.7300e+02\n",
      " 9.2600e+02 9.0000e+01 4.3000e+01 2.6600e+02 7.1900e+02 4.2600e+02\n",
      " 6.3400e+02 5.3600e+02 1.1030e+03 0.0000e+00 1.9000e+02 1.1200e+02\n",
      " 6.9100e+02 8.2000e+01 9.6000e+01 1.4000e+01 2.4000e+01 1.6500e+02\n",
      " 4.5200e+02 3.4000e+01 2.8000e+01 1.1920e+03 1.9000e+01 5.3800e+02\n",
      " 5.1600e+02 1.2580e+03]\n",
      "Spring: \n",
      "[1455 1396   12   49  475 7374 1330  205  931  112 2844  555   23   44\n",
      " 1415  513  308  341   33 2377  127 1226    8    3  718 1890   79  310\n",
      "  387  942 1166  383   11 1322  411   48   14   36  568  285  900   93\n",
      "   72   37  810  336  443  280  237   45    1   71  135  282   26   50\n",
      "   19  134   98   70   56   57   55  132  321  183   42   31  164  399\n",
      "  342   99  363  114  175  334   41   29   13   16   25  154    2  623\n",
      "   10  217  254  538]\n",
      "TotalSale: \n",
      "[2.80910e+04 2.94560e+04 3.21000e+02 1.19300e+03 8.33300e+03 1.18871e+05\n",
      " 2.49430e+04 5.28200e+03 1.70980e+04 2.76900e+03 4.91730e+04 1.10600e+04\n",
      " 4.17000e+02 9.27000e+02 2.57410e+04 1.20010e+04 6.72200e+03 1.14030e+04\n",
      " 7.43000e+02 3.82510e+04 2.30900e+03 2.47130e+04 3.14000e+02 3.60000e+01\n",
      " 1.37490e+04 3.46510e+04 1.34500e+03 6.62000e+03 7.86800e+03         nan\n",
      " 2.08390e+04 7.85200e+03 1.92000e+02 2.17720e+04 7.55500e+03 6.91500e+03\n",
      " 2.93000e+02 7.05000e+02 9.97600e+03 5.63200e+03 1.63610e+04 1.90600e+03\n",
      " 1.88800e+03 8.13000e+02 1.26070e+04 5.10200e+03 7.79300e+03 6.30300e+03\n",
      " 9.49300e+03 5.02100e+03 1.54800e+03 1.39700e+03 2.10200e+03 4.20700e+03\n",
      " 6.73000e+02 8.63000e+02 4.29000e+02 2.42100e+03 1.64400e+03 1.30500e+03\n",
      " 9.98000e+02 1.15400e+03 1.86600e+03 3.23100e+03 4.53300e+03 2.85400e+03\n",
      " 9.39000e+02 2.12500e+03 1.04200e+03 8.02000e+02 3.57000e+03 5.94000e+03\n",
      " 5.91000e+03 4.76000e+02 2.45000e+02 1.76200e+03 5.10000e+03 2.53400e+03\n",
      " 3.19500e+03 3.25400e+03 6.10900e+03 4.00000e+00 1.15300e+03 4.74400e+03\n",
      " 4.19000e+02 4.81000e+02 3.73000e+02 1.45700e+03 7.90000e+01 1.48000e+02\n",
      " 9.63000e+02 2.83900e+03 2.10000e+02 7.50000e+01 8.66900e+03 1.39000e+02\n",
      " 3.55100e+03 3.65600e+03 8.38700e+03]\n"
     ]
    }
   ],
   "source": [
    "for i in DressAttribute_df.columns:\n",
    "    print(f\"{i}: \\n{DressAttribute_df[i].unique()}\")"
   ]
  },
  {
   "cell_type": "markdown",
   "metadata": {},
   "source": [
    "##### What is the approximate difference between the maximum value and the 75th percentile in the 'Autumn' column?"
   ]
  },
  {
   "cell_type": "code",
   "execution_count": 31,
   "metadata": {},
   "outputs": [
    {
     "data": {
      "text/plain": [
       "count      100.000000\n",
       "mean      3728.040000\n",
       "std       6823.095931\n",
       "min          1.000000\n",
       "25%        493.500000\n",
       "50%       1561.500000\n",
       "75%       3907.000000\n",
       "max      55532.000000\n",
       "Name: Autumn, dtype: float64"
      ]
     },
     "execution_count": 31,
     "metadata": {},
     "output_type": "execute_result"
    }
   ],
   "source": [
    "DressAttribute_df.Autumn.describe()"
   ]
  },
  {
   "cell_type": "markdown",
   "metadata": {},
   "source": [
    "#### Which of the following seasons shows the highest difference between the maximum value and the 99th quantile of sales?"
   ]
  },
  {
   "cell_type": "code",
   "execution_count": 32,
   "metadata": {},
   "outputs": [
    {
     "data": {
      "text/plain": [
       "count      100.000000\n",
       "mean      3728.040000\n",
       "std       6823.095931\n",
       "min          1.000000\n",
       "25%        493.500000\n",
       "50%       1561.500000\n",
       "75%       3907.000000\n",
       "max      55532.000000\n",
       "Name: Autumn, dtype: float64"
      ]
     },
     "execution_count": 32,
     "metadata": {},
     "output_type": "execute_result"
    }
   ],
   "source": [
    "# Calculate the percentage of each categories in the \"Style\" variable.\n",
    "DressAttribute_df.Autumn.quantile([0.99])\n",
    "\n",
    "DressAttribute_df.Autumn.describe()\n"
   ]
  },
  {
   "cell_type": "markdown",
   "metadata": {},
   "source": [
    "Similarly Club Neckline, SLeeve length categories into \"Others\" which have less than 50000 sales across all the seasons."
   ]
  },
  {
   "cell_type": "code",
   "execution_count": 33,
   "metadata": {},
   "outputs": [],
   "source": [
    "# Group \"Neckline\" categories into \"Others\" which have less than 50000 sales across all the seasons.\n"
   ]
  },
  {
   "cell_type": "code",
   "execution_count": 34,
   "metadata": {},
   "outputs": [],
   "source": [
    "# Group \"Sleeve length\" categories into \"Others\" which have less than 50000 sales across all the seasons.\n"
   ]
  },
  {
   "cell_type": "markdown",
   "metadata": {},
   "source": [
    "Club material, fabrictype, patterntype and decoration categories into \"Others\" which have less than 25000 sales across all the seasons"
   ]
  },
  {
   "cell_type": "code",
   "execution_count": 35,
   "metadata": {},
   "outputs": [],
   "source": [
    "# Group \"material\" categories into \"Others\" which have less than 25000 sales across all the seasons.\n"
   ]
  },
  {
   "cell_type": "code",
   "execution_count": 36,
   "metadata": {},
   "outputs": [],
   "source": [
    "# Group \"fabric type\" categories into \"Others\" which have less than 25000 sales across all the seasons.\n"
   ]
  },
  {
   "cell_type": "code",
   "execution_count": 37,
   "metadata": {},
   "outputs": [],
   "source": [
    "# Group \"patern type\" categories into \"Others\" which have less than 25000 sales across all the seasons.\n"
   ]
  },
  {
   "cell_type": "code",
   "execution_count": 38,
   "metadata": {},
   "outputs": [],
   "source": [
    "# Group \"decoration\" categories into \"Others\" which have less than 25000 sales across all the seasons.\n"
   ]
  },
  {
   "cell_type": "markdown",
   "metadata": {},
   "source": [
    "### Caregorical Ordered Univariate Analysis"
   ]
  },
  {
   "cell_type": "markdown",
   "metadata": {},
   "source": [
    "Which of the following is an unordered variable in “Attribute DataSet”.\n",
    "- Style\n",
    "- Price\n",
    "- Season\n",
    "- Size\n"
   ]
  },
  {
   "cell_type": "markdown",
   "metadata": {},
   "source": [
    "### Numerical variable Univariate analysis:"
   ]
  },
  {
   "cell_type": "markdown",
   "metadata": {},
   "source": [
    "What is the approximate difference between the maximum value and 75th percentile in “Autumn” column.\n",
    "- Approx 54000\n",
    "- Approx 55000\n",
    "- Approx 52000\n",
    "- Approx 50000\n",
    "\n"
   ]
  },
  {
   "cell_type": "code",
   "execution_count": 39,
   "metadata": {},
   "outputs": [],
   "source": [
    "# Describe the numerical variale: \"Autumn\".\n"
   ]
  },
  {
   "cell_type": "code",
   "execution_count": 40,
   "metadata": {},
   "outputs": [],
   "source": [
    "# plot the boxplot of \"Autumn\" column.\n"
   ]
  },
  {
   "cell_type": "markdown",
   "metadata": {},
   "source": [
    "Which of the following season has the highest difference between the maximum value and 99th quantile of sales?\n",
    "- Winter\n",
    "- Summer\n",
    "- Spring\n",
    "- Autumn\n"
   ]
  },
  {
   "cell_type": "code",
   "execution_count": 41,
   "metadata": {},
   "outputs": [],
   "source": [
    "# Find the maximum and 99th percentile of Winter season.\n"
   ]
  },
  {
   "cell_type": "code",
   "execution_count": 42,
   "metadata": {},
   "outputs": [],
   "source": [
    "# Find the maximum and 99th percentile of Summer season.\n"
   ]
  },
  {
   "cell_type": "code",
   "execution_count": 43,
   "metadata": {},
   "outputs": [],
   "source": [
    "# Find the maximum and 99th percentile of Spring season.\n"
   ]
  },
  {
   "cell_type": "code",
   "execution_count": 44,
   "metadata": {},
   "outputs": [],
   "source": [
    "# Find the maximum and 99th percentile of Autumn season.\n"
   ]
  },
  {
   "cell_type": "markdown",
   "metadata": {},
   "source": [
    "## Bivariate Analysis "
   ]
  },
  {
   "cell_type": "markdown",
   "metadata": {},
   "source": [
    "### Numerical- Categorical analysis"
   ]
  },
  {
   "cell_type": "markdown",
   "metadata": {},
   "source": [
    "Which of the following “Price” category has the lowest average value of rating?\n",
    "- very-high\n",
    "- Medium\n",
    "- Low\n",
    "- High\n"
   ]
  },
  {
   "cell_type": "code",
   "execution_count": 45,
   "metadata": {},
   "outputs": [],
   "source": [
    "# Find the Mean of Ratings for each Price category.\n"
   ]
  },
  {
   "cell_type": "markdown",
   "metadata": {},
   "source": [
    "What is the median of the rating of “vintage” category in Style column?\n",
    "- 4.6\n",
    "- 4.7\n",
    "- 4.55\n",
    "- 0.00\n"
   ]
  },
  {
   "cell_type": "code",
   "execution_count": 46,
   "metadata": {},
   "outputs": [],
   "source": [
    "# Find the median of Ratings for each Style category.\n"
   ]
  },
  {
   "cell_type": "markdown",
   "metadata": {},
   "source": [
    "Which of the following season has the highest average value of sale for “Recommendation” value equals to 1.\n",
    "- Summer\n",
    "- Spring\n",
    "- Autumn\n",
    "- Winter\n"
   ]
  },
  {
   "cell_type": "code",
   "execution_count": 47,
   "metadata": {},
   "outputs": [],
   "source": [
    "# Summer sale vs Recommendation.\n"
   ]
  },
  {
   "cell_type": "code",
   "execution_count": 48,
   "metadata": {},
   "outputs": [],
   "source": [
    "# Spring sale vs Recommendation.\n"
   ]
  },
  {
   "cell_type": "code",
   "execution_count": 49,
   "metadata": {},
   "outputs": [],
   "source": [
    "# Autumn sale vs Recommendation.\n"
   ]
  },
  {
   "cell_type": "code",
   "execution_count": 50,
   "metadata": {},
   "outputs": [],
   "source": [
    "# Winter sale vs Recommendation.\n"
   ]
  },
  {
   "cell_type": "markdown",
   "metadata": {},
   "source": [
    "### Categorical categorical bivariate analysis\n"
   ]
  },
  {
   "cell_type": "markdown",
   "metadata": {},
   "source": [
    "Which of the following size categories has the highest positive recommendations?\n",
    "- Medium and extra large\n",
    "- Extra large and small\n",
    "- Free and small\n",
    "- Free and medium\n"
   ]
  },
  {
   "cell_type": "code",
   "execution_count": 51,
   "metadata": {},
   "outputs": [],
   "source": [
    "# Size vs Recommendation.\n"
   ]
  },
  {
   "cell_type": "markdown",
   "metadata": {},
   "source": [
    "### Multivariate analysis "
   ]
  },
  {
   "cell_type": "markdown",
   "metadata": {},
   "source": [
    "Which of the following pair of “Style” and “Price” category has the highest average of positive recommendations?\n",
    "- Price: medium and style: vintage\n",
    "- Price: medium and style: cute\n",
    "- Price: very high and style: party\n",
    "- Price: low and style: sexy\n"
   ]
  },
  {
   "cell_type": "code",
   "execution_count": 52,
   "metadata": {},
   "outputs": [],
   "source": [
    "# plot the heat map of Style, price and Recommendation.\n"
   ]
  },
  {
   "cell_type": "markdown",
   "metadata": {},
   "source": [
    "Which of the following material type has no recommendation in summer and winter seasons?\n",
    "- Mix and Milksilk\n",
    "- Nylon and Rayon\n",
    "- Microfiber and Silk\n",
    "- Milksilk and Microfiber\n"
   ]
  },
  {
   "cell_type": "code",
   "execution_count": 53,
   "metadata": {},
   "outputs": [],
   "source": [
    "# plot the heat map of Season, material and Recommendation.\n"
   ]
  },
  {
   "cell_type": "code",
   "execution_count": null,
   "metadata": {},
   "outputs": [],
   "source": []
  },
  {
   "cell_type": "markdown",
   "metadata": {},
   "source": [
    "### EDA Graded Exercise"
   ]
  },
  {
   "cell_type": "markdown",
   "metadata": {},
   "source": [
    "##### Which of the following categories of the 'Price' column has the lowest average rating?"
   ]
  },
  {
   "cell_type": "code",
   "execution_count": 54,
   "metadata": {},
   "outputs": [
    {
     "data": {
      "text/plain": [
       "Price\n",
       "Average    3.100000\n",
       "High       2.150000\n",
       "Low        3.990698\n",
       "Medium     3.328571\n",
       "Name: Rating, dtype: float64"
      ]
     },
     "execution_count": 54,
     "metadata": {},
     "output_type": "execute_result"
    }
   ],
   "source": [
    "DressAttribute_df.groupby('Price')['Rating'].mean()"
   ]
  },
  {
   "cell_type": "markdown",
   "metadata": {},
   "source": [
    "##### What is the median value of rating for the 'vintage' category in the Style column?"
   ]
  },
  {
   "cell_type": "code",
   "execution_count": 60,
   "metadata": {},
   "outputs": [
    {
     "data": {
      "text/plain": [
       "array(['Brief', 'cute', 'Others', 'Casual', 'Sexy'], dtype=object)"
      ]
     },
     "execution_count": 60,
     "metadata": {},
     "output_type": "execute_result"
    }
   ],
   "source": [
    "DressAttribute_df.Style.unique()"
   ]
  },
  {
   "cell_type": "markdown",
   "metadata": {},
   "source": [
    "##### Which of the following seasons shows the highest average value of sales for “Recommendation” value equals to 1."
   ]
  },
  {
   "cell_type": "code",
   "execution_count": 67,
   "metadata": {},
   "outputs": [
    {
     "name": "stderr",
     "output_type": "stream",
     "text": [
      "C:\\Users\\002YWG744\\AppData\\Local\\Temp\\ipykernel_56856\\447713555.py:1: FutureWarning: Indexing with multiple keys (implicitly converted to a tuple of keys) will be deprecated, use a list instead.\n",
      "  DressAttribute_df.groupby('Recommendation')['Autumn','Summer','Winter','Spring'].mean()\n"
     ]
    },
    {
     "data": {
      "text/html": [
       "<div>\n",
       "<style scoped>\n",
       "    .dataframe tbody tr th:only-of-type {\n",
       "        vertical-align: middle;\n",
       "    }\n",
       "\n",
       "    .dataframe tbody tr th {\n",
       "        vertical-align: top;\n",
       "    }\n",
       "\n",
       "    .dataframe thead th {\n",
       "        text-align: right;\n",
       "    }\n",
       "</style>\n",
       "<table border=\"1\" class=\"dataframe\">\n",
       "  <thead>\n",
       "    <tr style=\"text-align: right;\">\n",
       "      <th></th>\n",
       "      <th>Autumn</th>\n",
       "      <th>Summer</th>\n",
       "      <th>Winter</th>\n",
       "      <th>Spring</th>\n",
       "    </tr>\n",
       "    <tr>\n",
       "      <th>Recommendation</th>\n",
       "      <th></th>\n",
       "      <th></th>\n",
       "      <th></th>\n",
       "      <th></th>\n",
       "    </tr>\n",
       "  </thead>\n",
       "  <tbody>\n",
       "    <tr>\n",
       "      <th>0</th>\n",
       "      <td>3775.966667</td>\n",
       "      <td>1963.916667</td>\n",
       "      <td>1330.350000</td>\n",
       "      <td>402.833333</td>\n",
       "    </tr>\n",
       "    <tr>\n",
       "      <th>1</th>\n",
       "      <td>3656.150000</td>\n",
       "      <td>2105.048780</td>\n",
       "      <td>1359.878049</td>\n",
       "      <td>427.146341</td>\n",
       "    </tr>\n",
       "  </tbody>\n",
       "</table>\n",
       "</div>"
      ],
      "text/plain": [
       "                     Autumn       Summer       Winter      Spring\n",
       "Recommendation                                                   \n",
       "0               3775.966667  1963.916667  1330.350000  402.833333\n",
       "1               3656.150000  2105.048780  1359.878049  427.146341"
      ]
     },
     "execution_count": 67,
     "metadata": {},
     "output_type": "execute_result"
    }
   ],
   "source": [
    "DressAttribute_df.groupby('Recommendation')['Autumn','Summer','Winter','Spring'].mean()"
   ]
  },
  {
   "cell_type": "markdown",
   "metadata": {},
   "source": [
    "##### Which of the following size categories has the most positive recommendations?"
   ]
  },
  {
   "cell_type": "code",
   "execution_count": 75,
   "metadata": {},
   "outputs": [
    {
     "data": {
      "text/plain": [
       "<AxesSubplot:xlabel='Size'>"
      ]
     },
     "execution_count": 75,
     "metadata": {},
     "output_type": "execute_result"
    },
    {
     "data": {
      "image/png": "[encoded data removed]",
      "text/plain": [
       "<Figure size 432x288 with 1 Axes>"
      ]
     },
     "metadata": {
      "needs_background": "light"
     },
     "output_type": "display_data"
    }
   ],
   "source": [
    "DressAttribute_df.groupby('Size')['Recommendation'].mean().plot.bar()"
   ]
  }
 ],
 "metadata": {
  "kernelspec": {
   "display_name": "Python 3.10.4 64-bit",
   "language": "python",
   "name": "python3"
  },
  "language_info": {
   "codemirror_mode": {
    "name": "ipython",
    "version": 3
   },
   "file_extension": ".py",
   "mimetype": "text/x-python",
   "name": "python",
   "nbconvert_exporter": "python",
   "pygments_lexer": "ipython3",
   "version": "3.10.4"
  },
  "vscode": {
   "interpreter": {
    "hash": "887f61ba0157b89fb589717c3da5d61a6949953d677140dcdb73a661bb5cb8a1"
   }
  }
 },
 "nbformat": 4,
 "nbformat_minor": 2
}
